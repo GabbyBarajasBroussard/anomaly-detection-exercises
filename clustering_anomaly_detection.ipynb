{
 "cells": [
  {
   "cell_type": "code",
   "execution_count": 1,
   "metadata": {},
   "outputs": [],
   "source": [
    "# from __future__ import division\n",
    "import itertools\n",
    "import warnings\n",
    "warnings.filterwarnings(\"ignore\")\n",
    "import matplotlib.pyplot as plt\n",
    "import matplotlib.dates as mdates\n",
    "import numpy as np\n",
    "import pandas as pd\n",
    "import math\n",
    "from sklearn import metrics\n",
    "from random import randint\n",
    "from matplotlib import style\n",
    "import seaborn as sns\n",
    "from sklearn.cluster import DBSCAN\n",
    "from sklearn.preprocessing import MinMaxScaler\n",
    "\n",
    "%matplotlib inline"
   ]
  },
  {
   "cell_type": "code",
   "execution_count": 2,
   "metadata": {},
   "outputs": [],
   "source": [
    "from env import host, user, password\n",
    "\n",
    "def get_db_url(database, host=host, user=user, password=password):\n",
    "    return f'mysql+pymysql://{user}:{password}@{host}/{database}'\n",
    "url = get_db_url(\"grocery_db\")"
   ]
  },
  {
   "cell_type": "code",
   "execution_count": 3,
   "metadata": {},
   "outputs": [],
   "source": [
    "sql = \"\"\"\n",
    "select *\n",
    "from grocery_customers\n",
    "\"\"\"\n",
    "\n",
    "df = pd.read_sql(sql, url, index_col=\"customer_id\")"
   ]
  },
  {
   "cell_type": "code",
   "execution_count": 4,
   "metadata": {},
   "outputs": [
    {
     "data": {
      "text/html": [
       "<div>\n",
       "<style scoped>\n",
       "    .dataframe tbody tr th:only-of-type {\n",
       "        vertical-align: middle;\n",
       "    }\n",
       "\n",
       "    .dataframe tbody tr th {\n",
       "        vertical-align: top;\n",
       "    }\n",
       "\n",
       "    .dataframe thead th {\n",
       "        text-align: right;\n",
       "    }\n",
       "</style>\n",
       "<table border=\"1\" class=\"dataframe\">\n",
       "  <thead>\n",
       "    <tr style=\"text-align: right;\">\n",
       "      <th></th>\n",
       "      <th>Channel</th>\n",
       "      <th>Region</th>\n",
       "      <th>Fresh</th>\n",
       "      <th>Milk</th>\n",
       "      <th>Grocery</th>\n",
       "      <th>Frozen</th>\n",
       "      <th>Detergents_Paper</th>\n",
       "      <th>Delicassen</th>\n",
       "    </tr>\n",
       "    <tr>\n",
       "      <th>customer_id</th>\n",
       "      <th></th>\n",
       "      <th></th>\n",
       "      <th></th>\n",
       "      <th></th>\n",
       "      <th></th>\n",
       "      <th></th>\n",
       "      <th></th>\n",
       "      <th></th>\n",
       "    </tr>\n",
       "  </thead>\n",
       "  <tbody>\n",
       "    <tr>\n",
       "      <th>0</th>\n",
       "      <td>2</td>\n",
       "      <td>3</td>\n",
       "      <td>12669</td>\n",
       "      <td>9656</td>\n",
       "      <td>7561</td>\n",
       "      <td>214</td>\n",
       "      <td>2674</td>\n",
       "      <td>1338</td>\n",
       "    </tr>\n",
       "    <tr>\n",
       "      <th>1</th>\n",
       "      <td>2</td>\n",
       "      <td>3</td>\n",
       "      <td>7057</td>\n",
       "      <td>9810</td>\n",
       "      <td>9568</td>\n",
       "      <td>1762</td>\n",
       "      <td>3293</td>\n",
       "      <td>1776</td>\n",
       "    </tr>\n",
       "    <tr>\n",
       "      <th>2</th>\n",
       "      <td>2</td>\n",
       "      <td>3</td>\n",
       "      <td>6353</td>\n",
       "      <td>8808</td>\n",
       "      <td>7684</td>\n",
       "      <td>2405</td>\n",
       "      <td>3516</td>\n",
       "      <td>7844</td>\n",
       "    </tr>\n",
       "    <tr>\n",
       "      <th>3</th>\n",
       "      <td>1</td>\n",
       "      <td>3</td>\n",
       "      <td>13265</td>\n",
       "      <td>1196</td>\n",
       "      <td>4221</td>\n",
       "      <td>6404</td>\n",
       "      <td>507</td>\n",
       "      <td>1788</td>\n",
       "    </tr>\n",
       "    <tr>\n",
       "      <th>4</th>\n",
       "      <td>2</td>\n",
       "      <td>3</td>\n",
       "      <td>22615</td>\n",
       "      <td>5410</td>\n",
       "      <td>7198</td>\n",
       "      <td>3915</td>\n",
       "      <td>1777</td>\n",
       "      <td>5185</td>\n",
       "    </tr>\n",
       "  </tbody>\n",
       "</table>\n",
       "</div>"
      ],
      "text/plain": [
       "             Channel  Region  Fresh  Milk  Grocery  Frozen  Detergents_Paper  \\\n",
       "customer_id                                                                    \n",
       "0                  2       3  12669  9656     7561     214              2674   \n",
       "1                  2       3   7057  9810     9568    1762              3293   \n",
       "2                  2       3   6353  8808     7684    2405              3516   \n",
       "3                  1       3  13265  1196     4221    6404               507   \n",
       "4                  2       3  22615  5410     7198    3915              1777   \n",
       "\n",
       "             Delicassen  \n",
       "customer_id              \n",
       "0                  1338  \n",
       "1                  1776  \n",
       "2                  7844  \n",
       "3                  1788  \n",
       "4                  5185  "
      ]
     },
     "execution_count": 4,
     "metadata": {},
     "output_type": "execute_result"
    }
   ],
   "source": [
    "df.head()"
   ]
  },
  {
   "cell_type": "code",
   "execution_count": 5,
   "metadata": {},
   "outputs": [],
   "source": [
    "\n",
    "df = df[[\"Frozen\", \"Region\",\"Delicassen\"]]"
   ]
  },
  {
   "cell_type": "code",
   "execution_count": 6,
   "metadata": {},
   "outputs": [
    {
     "data": {
      "text/plain": [
       "array([[2.140e+02, 3.000e+00, 1.338e+03],\n",
       "       [1.762e+03, 3.000e+00, 1.776e+03],\n",
       "       [2.405e+03, 3.000e+00, 7.844e+03],\n",
       "       [6.404e+03, 3.000e+00, 1.788e+03],\n",
       "       [3.915e+03, 3.000e+00, 5.185e+03],\n",
       "       [6.660e+02, 3.000e+00, 1.451e+03],\n",
       "       [4.800e+02, 3.000e+00, 5.450e+02],\n",
       "       [1.669e+03, 3.000e+00, 2.566e+03],\n",
       "       [4.250e+02, 3.000e+00, 7.500e+02],\n",
       "       [1.159e+03, 3.000e+00, 2.098e+03]], dtype=float32)"
      ]
     },
     "execution_count": 6,
     "metadata": {},
     "output_type": "execute_result"
    }
   ],
   "source": [
    "np_array = df.values.astype(\"float32\", copy = False)\n",
    "np_array[0:10]"
   ]
  },
  {
   "cell_type": "code",
   "execution_count": 7,
   "metadata": {},
   "outputs": [
    {
     "data": {
      "text/plain": [
       "array([[0.0031063 , 1.        , 0.02784731],\n",
       "       [0.02854842, 1.        , 0.03698373],\n",
       "       [0.03911643, 1.        , 0.16355862],\n",
       "       [0.1048419 , 1.        , 0.03723405],\n",
       "       [0.063934  , 1.        , 0.10809346],\n",
       "       [0.01053514, 1.        , 0.03020442],\n",
       "       [0.00747814, 1.        , 0.0113058 ],\n",
       "       [0.02701992, 1.        , 0.05346267],\n",
       "       [0.00657419, 1.        , 0.01558198],\n",
       "       [0.01863783, 1.        , 0.04370046]], dtype=float32)"
      ]
     },
     "execution_count": 7,
     "metadata": {},
     "output_type": "execute_result"
    }
   ],
   "source": [
    "scaler = MinMaxScaler().fit(np_array)\n",
    "np_array = scaler.transform(np_array)\n",
    "np_array[0:10]"
   ]
  },
  {
   "cell_type": "code",
   "execution_count": 9,
   "metadata": {},
   "outputs": [],
   "source": [
    "dbsc = DBSCAN(eps = .10, min_samples = 20).fit(np_array)"
   ]
  },
  {
   "cell_type": "code",
   "execution_count": 10,
   "metadata": {},
   "outputs": [],
   "source": [
    "# Now, let's add the scaled value columns back onto the dataframe\n",
    "columns = list(df.columns)\n",
    "scaled_columns = [\"Scaled_\" + column for column in columns]\n",
    "\n",
    "# Save a copy of the original dataframe\n",
    "original_df = df.copy()\n",
    "\n",
    "# Create a dataframe containing the scaled values\n",
    "scaled_df = pd.DataFrame(np_array, columns=scaled_columns)\n",
    "\n",
    "# Merge the scaled and non-scaled values into one dataframe\n",
    "df = df.merge(scaled_df, on=df.index)\n",
    "df = df.drop(columns=['key_0'])"
   ]
  },
  {
   "cell_type": "code",
   "execution_count": 11,
   "metadata": {},
   "outputs": [
    {
     "data": {
      "text/plain": [
       "array([0, 0, 0, 0, 0, 0, 0, 0, 0, 0])"
      ]
     },
     "execution_count": 11,
     "metadata": {},
     "output_type": "execute_result"
    }
   ],
   "source": [
    "labels = dbsc.labels_\n",
    "labels[0:10]"
   ]
  },
  {
   "cell_type": "code",
   "execution_count": 12,
   "metadata": {},
   "outputs": [
    {
     "data": {
      "text/plain": [
       " 0    310\n",
       " 1     76\n",
       " 2     43\n",
       "-1     11\n",
       "Name: labels, dtype: int64"
      ]
     },
     "execution_count": 12,
     "metadata": {},
     "output_type": "execute_result"
    }
   ],
   "source": [
    "df['labels'] = labels\n",
    "df.labels.value_counts()"
   ]
  },
  {
   "cell_type": "code",
   "execution_count": 13,
   "metadata": {},
   "outputs": [
    {
     "data": {
      "text/html": [
       "<div>\n",
       "<style scoped>\n",
       "    .dataframe tbody tr th:only-of-type {\n",
       "        vertical-align: middle;\n",
       "    }\n",
       "\n",
       "    .dataframe tbody tr th {\n",
       "        vertical-align: top;\n",
       "    }\n",
       "\n",
       "    .dataframe thead th {\n",
       "        text-align: right;\n",
       "    }\n",
       "</style>\n",
       "<table border=\"1\" class=\"dataframe\">\n",
       "  <thead>\n",
       "    <tr style=\"text-align: right;\">\n",
       "      <th></th>\n",
       "      <th>Frozen</th>\n",
       "      <th>Region</th>\n",
       "      <th>Delicassen</th>\n",
       "      <th>Scaled_Frozen</th>\n",
       "      <th>Scaled_Region</th>\n",
       "      <th>Scaled_Delicassen</th>\n",
       "      <th>labels</th>\n",
       "    </tr>\n",
       "  </thead>\n",
       "  <tbody>\n",
       "    <tr>\n",
       "      <th>23</th>\n",
       "      <td>5154</td>\n",
       "      <td>3</td>\n",
       "      <td>16523</td>\n",
       "      <td>0.084298</td>\n",
       "      <td>1.0</td>\n",
       "      <td>0.344597</td>\n",
       "      <td>-1</td>\n",
       "    </tr>\n",
       "    <tr>\n",
       "      <th>71</th>\n",
       "      <td>5373</td>\n",
       "      <td>3</td>\n",
       "      <td>14472</td>\n",
       "      <td>0.087897</td>\n",
       "      <td>1.0</td>\n",
       "      <td>0.301815</td>\n",
       "      <td>-1</td>\n",
       "    </tr>\n",
       "    <tr>\n",
       "      <th>87</th>\n",
       "      <td>6312</td>\n",
       "      <td>3</td>\n",
       "      <td>14351</td>\n",
       "      <td>0.103330</td>\n",
       "      <td>1.0</td>\n",
       "      <td>0.299291</td>\n",
       "      <td>-1</td>\n",
       "    </tr>\n",
       "    <tr>\n",
       "      <th>93</th>\n",
       "      <td>35009</td>\n",
       "      <td>3</td>\n",
       "      <td>2698</td>\n",
       "      <td>0.574979</td>\n",
       "      <td>1.0</td>\n",
       "      <td>0.056216</td>\n",
       "      <td>-1</td>\n",
       "    </tr>\n",
       "    <tr>\n",
       "      <th>181</th>\n",
       "      <td>16745</td>\n",
       "      <td>3</td>\n",
       "      <td>8550</td>\n",
       "      <td>0.274801</td>\n",
       "      <td>1.0</td>\n",
       "      <td>0.178285</td>\n",
       "      <td>-1</td>\n",
       "    </tr>\n",
       "  </tbody>\n",
       "</table>\n",
       "</div>"
      ],
      "text/plain": [
       "     Frozen  Region  Delicassen  Scaled_Frozen  Scaled_Region  \\\n",
       "23     5154       3       16523       0.084298            1.0   \n",
       "71     5373       3       14472       0.087897            1.0   \n",
       "87     6312       3       14351       0.103330            1.0   \n",
       "93    35009       3        2698       0.574979            1.0   \n",
       "181   16745       3        8550       0.274801            1.0   \n",
       "\n",
       "     Scaled_Delicassen  labels  \n",
       "23            0.344597      -1  \n",
       "71            0.301815      -1  \n",
       "87            0.299291      -1  \n",
       "93            0.056216      -1  \n",
       "181           0.178285      -1  "
      ]
     },
     "execution_count": 13,
     "metadata": {},
     "output_type": "execute_result"
    }
   ],
   "source": [
    "df[df.labels==-1].head()"
   ]
  },
  {
   "cell_type": "code",
   "execution_count": 14,
   "metadata": {},
   "outputs": [
    {
     "name": "stdout",
     "output_type": "stream",
     "text": [
      "Population\n",
      "             Frozen      Region    Delicassen  Scaled_Frozen  Scaled_Region  \\\n",
      "count    440.000000  440.000000    440.000000     440.000000     440.000000   \n",
      "mean    3071.931818    2.543182   1524.870455       0.050078       0.771591   \n",
      "std     4854.673333    0.774272   2820.105937       0.079789       0.387136   \n",
      "min       25.000000    1.000000      3.000000       0.000000       0.000000   \n",
      "25%      742.250000    2.000000    408.250000       0.011788       0.500000   \n",
      "50%     1526.000000    3.000000    965.500000       0.024670       1.000000   \n",
      "75%     3554.250000    3.000000   1820.250000       0.058005       1.000000   \n",
      "max    60869.000000    3.000000  47943.000000       1.000000       1.000000   \n",
      "\n",
      "       Scaled_Delicassen      labels  \n",
      "count         440.000000  440.000000  \n",
      "mean            0.031745    0.343182  \n",
      "std             0.058826    0.686975  \n",
      "min             0.000000   -1.000000  \n",
      "25%             0.008453    0.000000  \n",
      "50%             0.020077    0.000000  \n",
      "75%             0.037907    1.000000  \n",
      "max             1.000000    2.000000  \n",
      "-------------\n",
      "Inliers\n",
      "             Frozen  Region   Delicassen  Scaled_Frozen  Scaled_Region  \\\n",
      "count    310.000000   310.0   310.000000     310.000000          310.0   \n",
      "mean    2662.467742     3.0  1314.751613       0.043348            1.0   \n",
      "std     3279.442050     0.0  1295.218251       0.053899            0.0   \n",
      "min       25.000000     3.0     3.000000       0.000000            1.0   \n",
      "25%      659.500000     3.0   395.250000       0.010428            1.0   \n",
      "50%     1438.000000     3.0   971.000000       0.023223            1.0   \n",
      "75%     3204.250000     3.0  1787.000000       0.052252            1.0   \n",
      "max    18028.000000     3.0  7844.000000       0.295888            1.0   \n",
      "\n",
      "       Scaled_Delicassen  labels  \n",
      "count         310.000000   310.0  \n",
      "mean            0.027362     0.0  \n",
      "std             0.027017     0.0  \n",
      "min             0.000000     0.0  \n",
      "25%             0.008182     0.0  \n",
      "50%             0.020192     0.0  \n",
      "75%             0.037213     0.0  \n",
      "max             0.163559     0.0  \n",
      "-------------\n",
      "Outliers\n",
      "             Frozen     Region    Delicassen  Scaled_Frozen  Scaled_Region  \\\n",
      "count     11.000000  11.000000     11.000000      11.000000      11.000000   \n",
      "mean   20403.272727   2.454545  10743.181818       0.334927       0.727273   \n",
      "std    17166.600299   0.687552  13605.776706       0.282141       0.343776   \n",
      "min     5154.000000   1.000000    550.000000       0.084298       0.000000   \n",
      "25%     8935.500000   2.000000   2787.000000       0.146448       0.500000   \n",
      "50%    15601.000000   3.000000   5609.000000       0.255999       1.000000   \n",
      "75%    26860.000000   3.000000  14411.500000       0.441046       1.000000   \n",
      "max    60869.000000   3.000000  47943.000000       1.000000       1.000000   \n",
      "\n",
      "       Scaled_Delicassen  labels  \n",
      "count          11.000000    11.0  \n",
      "mean            0.224034    -1.0  \n",
      "std             0.283808     0.0  \n",
      "min             0.011410    -1.0  \n",
      "25%             0.058073    -1.0  \n",
      "50%             0.116938    -1.0  \n",
      "75%             0.300553    -1.0  \n",
      "max             1.000000    -1.0  \n"
     ]
    }
   ],
   "source": [
    "# Let's look at the descriptive stats for the entire population, the inliers, then the outliers/anomalies\n",
    "print(\"Population\")\n",
    "print(df.describe())\n",
    "print(\"-------------\")\n",
    "print(\"Inliers\")\n",
    "print(df[df.labels==0].describe())\n",
    "print(\"-------------\")\n",
    "print(\"Outliers\")\n",
    "print(df[df.labels==-1].describe())"
   ]
  },
  {
   "cell_type": "code",
   "execution_count": 15,
   "metadata": {},
   "outputs": [
    {
     "data": {
      "image/png": "[encoded data removed]",
      "text/plain": [
       "<Figure size 432x288 with 1 Axes>"
      ]
     },
     "metadata": {
      "needs_background": "light"
     },
     "output_type": "display_data"
    },
    {
     "data": {
      "image/png": "[encoded data removed]",
      "text/plain": [
       "<Figure size 432x288 with 1 Axes>"
      ]
     },
     "metadata": {
      "needs_background": "light"
     },
     "output_type": "display_data"
    }
   ],
   "source": [
    "sns.scatterplot(df.Delicassen, df.Frozen, hue=df.labels)\n",
    "plt.show()\n",
    "\n",
    "sns.scatterplot(df.Region, df.Frozen, hue=df.labels)\n",
    "plt.show()"
   ]
  },
  {
   "cell_type": "code",
   "execution_count": null,
   "metadata": {},
   "outputs": [],
   "source": []
  }
 ],
 "metadata": {
  "kernelspec": {
   "display_name": "Python 3",
   "language": "python",
   "name": "python3"
  },
  "language_info": {
   "codemirror_mode": {
    "name": "ipython",
    "version": 3
   },
   "file_extension": ".py",
   "mimetype": "text/x-python",
   "name": "python",
   "nbconvert_exporter": "python",
   "pygments_lexer": "ipython3",
   "version": "3.7.6"
  }
 },
 "nbformat": 4,
 "nbformat_minor": 4
}
