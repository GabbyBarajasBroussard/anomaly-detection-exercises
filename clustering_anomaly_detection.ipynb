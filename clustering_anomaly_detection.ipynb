{
 "cells": [
  {
   "cell_type": "code",
   "execution_count": 1,
   "metadata": {},
   "outputs": [],
   "source": [
    "# from __future__ import division\n",
    "import itertools\n",
    "import warnings\n",
    "warnings.filterwarnings(\"ignore\")\n",
    "import matplotlib.pyplot as plt\n",
    "import matplotlib.dates as mdates\n",
    "import numpy as np\n",
    "import pandas as pd\n",
    "import math\n",
    "from sklearn import metrics\n",
    "from random import randint\n",
    "from matplotlib import style\n",
    "import seaborn as sns\n",
    "from sklearn.cluster import DBSCAN\n",
    "from sklearn.preprocessing import MinMaxScaler\n",
    "from wrangle import get_grocery_data, wrangle_zillow, clean_log_data\n",
    "%matplotlib inline"
   ]
  },
  {
   "cell_type": "markdown",
   "metadata": {},
   "source": [
    "# Grocery Data"
   ]
  },
  {
   "cell_type": "code",
   "execution_count": 2,
   "metadata": {},
   "outputs": [
    {
     "data": {
      "text/html": [
       "<div>\n",
       "<style scoped>\n",
       "    .dataframe tbody tr th:only-of-type {\n",
       "        vertical-align: middle;\n",
       "    }\n",
       "\n",
       "    .dataframe tbody tr th {\n",
       "        vertical-align: top;\n",
       "    }\n",
       "\n",
       "    .dataframe thead th {\n",
       "        text-align: right;\n",
       "    }\n",
       "</style>\n",
       "<table border=\"1\" class=\"dataframe\">\n",
       "  <thead>\n",
       "    <tr style=\"text-align: right;\">\n",
       "      <th></th>\n",
       "      <th>customer_id</th>\n",
       "      <th>Channel</th>\n",
       "      <th>Region</th>\n",
       "      <th>Fresh</th>\n",
       "      <th>Milk</th>\n",
       "      <th>Grocery</th>\n",
       "      <th>Frozen</th>\n",
       "      <th>Detergents_Paper</th>\n",
       "      <th>Delicassen</th>\n",
       "    </tr>\n",
       "  </thead>\n",
       "  <tbody>\n",
       "    <tr>\n",
       "      <th>0</th>\n",
       "      <td>0</td>\n",
       "      <td>2</td>\n",
       "      <td>3</td>\n",
       "      <td>12669</td>\n",
       "      <td>9656</td>\n",
       "      <td>7561</td>\n",
       "      <td>214</td>\n",
       "      <td>2674</td>\n",
       "      <td>1338</td>\n",
       "    </tr>\n",
       "    <tr>\n",
       "      <th>1</th>\n",
       "      <td>1</td>\n",
       "      <td>2</td>\n",
       "      <td>3</td>\n",
       "      <td>7057</td>\n",
       "      <td>9810</td>\n",
       "      <td>9568</td>\n",
       "      <td>1762</td>\n",
       "      <td>3293</td>\n",
       "      <td>1776</td>\n",
       "    </tr>\n",
       "    <tr>\n",
       "      <th>2</th>\n",
       "      <td>2</td>\n",
       "      <td>2</td>\n",
       "      <td>3</td>\n",
       "      <td>6353</td>\n",
       "      <td>8808</td>\n",
       "      <td>7684</td>\n",
       "      <td>2405</td>\n",
       "      <td>3516</td>\n",
       "      <td>7844</td>\n",
       "    </tr>\n",
       "    <tr>\n",
       "      <th>3</th>\n",
       "      <td>3</td>\n",
       "      <td>1</td>\n",
       "      <td>3</td>\n",
       "      <td>13265</td>\n",
       "      <td>1196</td>\n",
       "      <td>4221</td>\n",
       "      <td>6404</td>\n",
       "      <td>507</td>\n",
       "      <td>1788</td>\n",
       "    </tr>\n",
       "    <tr>\n",
       "      <th>4</th>\n",
       "      <td>4</td>\n",
       "      <td>2</td>\n",
       "      <td>3</td>\n",
       "      <td>22615</td>\n",
       "      <td>5410</td>\n",
       "      <td>7198</td>\n",
       "      <td>3915</td>\n",
       "      <td>1777</td>\n",
       "      <td>5185</td>\n",
       "    </tr>\n",
       "  </tbody>\n",
       "</table>\n",
       "</div>"
      ],
      "text/plain": [
       "   customer_id  Channel  Region  Fresh  Milk  Grocery  Frozen  \\\n",
       "0            0        2       3  12669  9656     7561     214   \n",
       "1            1        2       3   7057  9810     9568    1762   \n",
       "2            2        2       3   6353  8808     7684    2405   \n",
       "3            3        1       3  13265  1196     4221    6404   \n",
       "4            4        2       3  22615  5410     7198    3915   \n",
       "\n",
       "   Detergents_Paper  Delicassen  \n",
       "0              2674        1338  \n",
       "1              3293        1776  \n",
       "2              3516        7844  \n",
       "3               507        1788  \n",
       "4              1777        5185  "
      ]
     },
     "execution_count": 2,
     "metadata": {},
     "output_type": "execute_result"
    }
   ],
   "source": [
    "df= get_grocery_data()\n",
    "df.head()"
   ]
  },
  {
   "cell_type": "code",
   "execution_count": 3,
   "metadata": {},
   "outputs": [],
   "source": [
    "df = df[[\"Frozen\", \"Region\",\"Delicassen\"]]"
   ]
  },
  {
   "cell_type": "code",
   "execution_count": 4,
   "metadata": {},
   "outputs": [
    {
     "data": {
      "text/plain": [
       "array([[2.140e+02, 3.000e+00, 1.338e+03],\n",
       "       [1.762e+03, 3.000e+00, 1.776e+03],\n",
       "       [2.405e+03, 3.000e+00, 7.844e+03],\n",
       "       [6.404e+03, 3.000e+00, 1.788e+03],\n",
       "       [3.915e+03, 3.000e+00, 5.185e+03],\n",
       "       [6.660e+02, 3.000e+00, 1.451e+03],\n",
       "       [4.800e+02, 3.000e+00, 5.450e+02],\n",
       "       [1.669e+03, 3.000e+00, 2.566e+03],\n",
       "       [4.250e+02, 3.000e+00, 7.500e+02],\n",
       "       [1.159e+03, 3.000e+00, 2.098e+03]], dtype=float32)"
      ]
     },
     "execution_count": 4,
     "metadata": {},
     "output_type": "execute_result"
    }
   ],
   "source": [
    "np_array = df.values.astype(\"float32\", copy = False)\n",
    "np_array[0:10]"
   ]
  },
  {
   "cell_type": "code",
   "execution_count": 5,
   "metadata": {},
   "outputs": [
    {
     "data": {
      "text/plain": [
       "array([[0.0031063 , 1.        , 0.02784731],\n",
       "       [0.02854842, 1.        , 0.03698373],\n",
       "       [0.03911643, 1.        , 0.16355862],\n",
       "       [0.1048419 , 1.        , 0.03723405],\n",
       "       [0.063934  , 1.        , 0.10809346],\n",
       "       [0.01053514, 1.        , 0.03020442],\n",
       "       [0.00747814, 1.        , 0.0113058 ],\n",
       "       [0.02701992, 1.        , 0.05346267],\n",
       "       [0.00657419, 1.        , 0.01558198],\n",
       "       [0.01863783, 1.        , 0.04370046]], dtype=float32)"
      ]
     },
     "execution_count": 5,
     "metadata": {},
     "output_type": "execute_result"
    }
   ],
   "source": [
    "scaler = MinMaxScaler().fit(np_array)\n",
    "np_array = scaler.transform(np_array)\n",
    "np_array[0:10]"
   ]
  },
  {
   "cell_type": "code",
   "execution_count": 6,
   "metadata": {},
   "outputs": [],
   "source": [
    "dbsc = DBSCAN(eps = .10, min_samples = 20).fit(np_array)"
   ]
  },
  {
   "cell_type": "code",
   "execution_count": 7,
   "metadata": {},
   "outputs": [],
   "source": [
    "# Now, let's add the scaled value columns back onto the dataframe\n",
    "columns = list(df.columns)\n",
    "scaled_columns = [\"Scaled_\" + column for column in columns]\n",
    "\n",
    "# Save a copy of the original dataframe\n",
    "original_df = df.copy()\n",
    "\n",
    "# Create a dataframe containing the scaled values\n",
    "scaled_df = pd.DataFrame(np_array, columns=scaled_columns)\n",
    "\n",
    "# Merge the scaled and non-scaled values into one dataframe\n",
    "df = df.merge(scaled_df, on=df.index)\n",
    "df = df.drop(columns=['key_0'])"
   ]
  },
  {
   "cell_type": "code",
   "execution_count": 8,
   "metadata": {},
   "outputs": [
    {
     "data": {
      "text/plain": [
       "array([0, 0, 0, 0, 0, 0, 0, 0, 0, 0])"
      ]
     },
     "execution_count": 8,
     "metadata": {},
     "output_type": "execute_result"
    }
   ],
   "source": [
    "labels = dbsc.labels_\n",
    "labels[0:10]"
   ]
  },
  {
   "cell_type": "code",
   "execution_count": 9,
   "metadata": {},
   "outputs": [
    {
     "data": {
      "text/plain": [
       " 0    310\n",
       " 1     76\n",
       " 2     43\n",
       "-1     11\n",
       "Name: labels, dtype: int64"
      ]
     },
     "execution_count": 9,
     "metadata": {},
     "output_type": "execute_result"
    }
   ],
   "source": [
    "df['labels'] = labels\n",
    "df.labels.value_counts()"
   ]
  },
  {
   "cell_type": "code",
   "execution_count": 10,
   "metadata": {},
   "outputs": [
    {
     "data": {
      "text/html": [
       "<div>\n",
       "<style scoped>\n",
       "    .dataframe tbody tr th:only-of-type {\n",
       "        vertical-align: middle;\n",
       "    }\n",
       "\n",
       "    .dataframe tbody tr th {\n",
       "        vertical-align: top;\n",
       "    }\n",
       "\n",
       "    .dataframe thead th {\n",
       "        text-align: right;\n",
       "    }\n",
       "</style>\n",
       "<table border=\"1\" class=\"dataframe\">\n",
       "  <thead>\n",
       "    <tr style=\"text-align: right;\">\n",
       "      <th></th>\n",
       "      <th>Frozen</th>\n",
       "      <th>Region</th>\n",
       "      <th>Delicassen</th>\n",
       "      <th>Scaled_Frozen</th>\n",
       "      <th>Scaled_Region</th>\n",
       "      <th>Scaled_Delicassen</th>\n",
       "      <th>labels</th>\n",
       "    </tr>\n",
       "  </thead>\n",
       "  <tbody>\n",
       "    <tr>\n",
       "      <th>23</th>\n",
       "      <td>5154</td>\n",
       "      <td>3</td>\n",
       "      <td>16523</td>\n",
       "      <td>0.084298</td>\n",
       "      <td>1.0</td>\n",
       "      <td>0.344597</td>\n",
       "      <td>-1</td>\n",
       "    </tr>\n",
       "    <tr>\n",
       "      <th>71</th>\n",
       "      <td>5373</td>\n",
       "      <td>3</td>\n",
       "      <td>14472</td>\n",
       "      <td>0.087897</td>\n",
       "      <td>1.0</td>\n",
       "      <td>0.301815</td>\n",
       "      <td>-1</td>\n",
       "    </tr>\n",
       "    <tr>\n",
       "      <th>87</th>\n",
       "      <td>6312</td>\n",
       "      <td>3</td>\n",
       "      <td>14351</td>\n",
       "      <td>0.103330</td>\n",
       "      <td>1.0</td>\n",
       "      <td>0.299291</td>\n",
       "      <td>-1</td>\n",
       "    </tr>\n",
       "    <tr>\n",
       "      <th>93</th>\n",
       "      <td>35009</td>\n",
       "      <td>3</td>\n",
       "      <td>2698</td>\n",
       "      <td>0.574979</td>\n",
       "      <td>1.0</td>\n",
       "      <td>0.056216</td>\n",
       "      <td>-1</td>\n",
       "    </tr>\n",
       "    <tr>\n",
       "      <th>181</th>\n",
       "      <td>16745</td>\n",
       "      <td>3</td>\n",
       "      <td>8550</td>\n",
       "      <td>0.274801</td>\n",
       "      <td>1.0</td>\n",
       "      <td>0.178285</td>\n",
       "      <td>-1</td>\n",
       "    </tr>\n",
       "  </tbody>\n",
       "</table>\n",
       "</div>"
      ],
      "text/plain": [
       "     Frozen  Region  Delicassen  Scaled_Frozen  Scaled_Region  \\\n",
       "23     5154       3       16523       0.084298            1.0   \n",
       "71     5373       3       14472       0.087897            1.0   \n",
       "87     6312       3       14351       0.103330            1.0   \n",
       "93    35009       3        2698       0.574979            1.0   \n",
       "181   16745       3        8550       0.274801            1.0   \n",
       "\n",
       "     Scaled_Delicassen  labels  \n",
       "23            0.344597      -1  \n",
       "71            0.301815      -1  \n",
       "87            0.299291      -1  \n",
       "93            0.056216      -1  \n",
       "181           0.178285      -1  "
      ]
     },
     "execution_count": 10,
     "metadata": {},
     "output_type": "execute_result"
    }
   ],
   "source": [
    "df[df.labels==-1].head()"
   ]
  },
  {
   "cell_type": "code",
   "execution_count": 11,
   "metadata": {},
   "outputs": [
    {
     "name": "stdout",
     "output_type": "stream",
     "text": [
      "Population\n",
      "             Frozen      Region    Delicassen  Scaled_Frozen  Scaled_Region  \\\n",
      "count    440.000000  440.000000    440.000000     440.000000     440.000000   \n",
      "mean    3071.931818    2.543182   1524.870455       0.050078       0.771591   \n",
      "std     4854.673333    0.774272   2820.105937       0.079789       0.387136   \n",
      "min       25.000000    1.000000      3.000000       0.000000       0.000000   \n",
      "25%      742.250000    2.000000    408.250000       0.011788       0.500000   \n",
      "50%     1526.000000    3.000000    965.500000       0.024670       1.000000   \n",
      "75%     3554.250000    3.000000   1820.250000       0.058005       1.000000   \n",
      "max    60869.000000    3.000000  47943.000000       1.000000       1.000000   \n",
      "\n",
      "       Scaled_Delicassen      labels  \n",
      "count         440.000000  440.000000  \n",
      "mean            0.031745    0.343182  \n",
      "std             0.058826    0.686975  \n",
      "min             0.000000   -1.000000  \n",
      "25%             0.008453    0.000000  \n",
      "50%             0.020077    0.000000  \n",
      "75%             0.037907    1.000000  \n",
      "max             1.000000    2.000000  \n",
      "-------------\n",
      "Inliers\n",
      "             Frozen  Region   Delicassen  Scaled_Frozen  Scaled_Region  \\\n",
      "count    310.000000   310.0   310.000000     310.000000          310.0   \n",
      "mean    2662.467742     3.0  1314.751613       0.043348            1.0   \n",
      "std     3279.442050     0.0  1295.218251       0.053899            0.0   \n",
      "min       25.000000     3.0     3.000000       0.000000            1.0   \n",
      "25%      659.500000     3.0   395.250000       0.010428            1.0   \n",
      "50%     1438.000000     3.0   971.000000       0.023223            1.0   \n",
      "75%     3204.250000     3.0  1787.000000       0.052252            1.0   \n",
      "max    18028.000000     3.0  7844.000000       0.295888            1.0   \n",
      "\n",
      "       Scaled_Delicassen  labels  \n",
      "count         310.000000   310.0  \n",
      "mean            0.027362     0.0  \n",
      "std             0.027017     0.0  \n",
      "min             0.000000     0.0  \n",
      "25%             0.008182     0.0  \n",
      "50%             0.020192     0.0  \n",
      "75%             0.037213     0.0  \n",
      "max             0.163559     0.0  \n",
      "-------------\n",
      "Outliers\n",
      "             Frozen     Region    Delicassen  Scaled_Frozen  Scaled_Region  \\\n",
      "count     11.000000  11.000000     11.000000      11.000000      11.000000   \n",
      "mean   20403.272727   2.454545  10743.181818       0.334927       0.727273   \n",
      "std    17166.600299   0.687552  13605.776706       0.282141       0.343776   \n",
      "min     5154.000000   1.000000    550.000000       0.084298       0.000000   \n",
      "25%     8935.500000   2.000000   2787.000000       0.146448       0.500000   \n",
      "50%    15601.000000   3.000000   5609.000000       0.255999       1.000000   \n",
      "75%    26860.000000   3.000000  14411.500000       0.441046       1.000000   \n",
      "max    60869.000000   3.000000  47943.000000       1.000000       1.000000   \n",
      "\n",
      "       Scaled_Delicassen  labels  \n",
      "count          11.000000    11.0  \n",
      "mean            0.224034    -1.0  \n",
      "std             0.283808     0.0  \n",
      "min             0.011410    -1.0  \n",
      "25%             0.058073    -1.0  \n",
      "50%             0.116938    -1.0  \n",
      "75%             0.300553    -1.0  \n",
      "max             1.000000    -1.0  \n"
     ]
    }
   ],
   "source": [
    "# Let's look at the descriptive stats for the entire population, the inliers, then the outliers/anomalies\n",
    "print(\"Population\")\n",
    "print(df.describe())\n",
    "print(\"-------------\")\n",
    "print(\"Inliers\")\n",
    "print(df[df.labels==0].describe())\n",
    "print(\"-------------\")\n",
    "print(\"Outliers\")\n",
    "print(df[df.labels==-1].describe())"
   ]
  },
  {
   "cell_type": "code",
   "execution_count": 12,
   "metadata": {},
   "outputs": [
    {
     "data": {
      "image/png": "[encoded data removed]",
      "text/plain": [
       "<Figure size 432x288 with 1 Axes>"
      ]
     },
     "metadata": {
      "needs_background": "light"
     },
     "output_type": "display_data"
    },
    {
     "data": {
      "image/png": "[encoded data removed]",
      "text/plain": [
       "<Figure size 432x288 with 1 Axes>"
      ]
     },
     "metadata": {
      "needs_background": "light"
     },
     "output_type": "display_data"
    }
   ],
   "source": [
    "sns.scatterplot(df.Delicassen, df.Frozen, hue=df.labels)\n",
    "plt.show()\n",
    "\n",
    "sns.scatterplot(df.Region, df.Frozen, hue=df.labels)\n",
    "plt.show()"
   ]
  },
  {
   "cell_type": "code",
   "execution_count": 13,
   "metadata": {},
   "outputs": [
    {
     "data": {
      "text/html": [
       "<div>\n",
       "<style scoped>\n",
       "    .dataframe tbody tr th:only-of-type {\n",
       "        vertical-align: middle;\n",
       "    }\n",
       "\n",
       "    .dataframe tbody tr th {\n",
       "        vertical-align: top;\n",
       "    }\n",
       "\n",
       "    .dataframe thead th {\n",
       "        text-align: right;\n",
       "    }\n",
       "</style>\n",
       "<table border=\"1\" class=\"dataframe\">\n",
       "  <thead>\n",
       "    <tr style=\"text-align: right;\">\n",
       "      <th></th>\n",
       "      <th>Frozen</th>\n",
       "      <th>Region</th>\n",
       "      <th>Delicassen</th>\n",
       "      <th>Scaled_Frozen</th>\n",
       "      <th>Scaled_Region</th>\n",
       "      <th>Scaled_Delicassen</th>\n",
       "      <th>labels</th>\n",
       "    </tr>\n",
       "  </thead>\n",
       "  <tbody>\n",
       "    <tr>\n",
       "      <th>0</th>\n",
       "      <td>214</td>\n",
       "      <td>3</td>\n",
       "      <td>1338</td>\n",
       "      <td>0.003106</td>\n",
       "      <td>1.0</td>\n",
       "      <td>0.027847</td>\n",
       "      <td>0</td>\n",
       "    </tr>\n",
       "    <tr>\n",
       "      <th>1</th>\n",
       "      <td>1762</td>\n",
       "      <td>3</td>\n",
       "      <td>1776</td>\n",
       "      <td>0.028548</td>\n",
       "      <td>1.0</td>\n",
       "      <td>0.036984</td>\n",
       "      <td>0</td>\n",
       "    </tr>\n",
       "    <tr>\n",
       "      <th>2</th>\n",
       "      <td>2405</td>\n",
       "      <td>3</td>\n",
       "      <td>7844</td>\n",
       "      <td>0.039116</td>\n",
       "      <td>1.0</td>\n",
       "      <td>0.163559</td>\n",
       "      <td>0</td>\n",
       "    </tr>\n",
       "    <tr>\n",
       "      <th>3</th>\n",
       "      <td>6404</td>\n",
       "      <td>3</td>\n",
       "      <td>1788</td>\n",
       "      <td>0.104842</td>\n",
       "      <td>1.0</td>\n",
       "      <td>0.037234</td>\n",
       "      <td>0</td>\n",
       "    </tr>\n",
       "    <tr>\n",
       "      <th>4</th>\n",
       "      <td>3915</td>\n",
       "      <td>3</td>\n",
       "      <td>5185</td>\n",
       "      <td>0.063934</td>\n",
       "      <td>1.0</td>\n",
       "      <td>0.108093</td>\n",
       "      <td>0</td>\n",
       "    </tr>\n",
       "    <tr>\n",
       "      <th>...</th>\n",
       "      <td>...</td>\n",
       "      <td>...</td>\n",
       "      <td>...</td>\n",
       "      <td>...</td>\n",
       "      <td>...</td>\n",
       "      <td>...</td>\n",
       "      <td>...</td>\n",
       "    </tr>\n",
       "    <tr>\n",
       "      <th>435</th>\n",
       "      <td>13135</td>\n",
       "      <td>3</td>\n",
       "      <td>2204</td>\n",
       "      <td>0.215469</td>\n",
       "      <td>1.0</td>\n",
       "      <td>0.045912</td>\n",
       "      <td>0</td>\n",
       "    </tr>\n",
       "    <tr>\n",
       "      <th>436</th>\n",
       "      <td>4510</td>\n",
       "      <td>3</td>\n",
       "      <td>2346</td>\n",
       "      <td>0.073713</td>\n",
       "      <td>1.0</td>\n",
       "      <td>0.048874</td>\n",
       "      <td>0</td>\n",
       "    </tr>\n",
       "    <tr>\n",
       "      <th>437</th>\n",
       "      <td>437</td>\n",
       "      <td>3</td>\n",
       "      <td>1867</td>\n",
       "      <td>0.006771</td>\n",
       "      <td>1.0</td>\n",
       "      <td>0.038882</td>\n",
       "      <td>0</td>\n",
       "    </tr>\n",
       "    <tr>\n",
       "      <th>438</th>\n",
       "      <td>1038</td>\n",
       "      <td>3</td>\n",
       "      <td>2125</td>\n",
       "      <td>0.016649</td>\n",
       "      <td>1.0</td>\n",
       "      <td>0.044264</td>\n",
       "      <td>0</td>\n",
       "    </tr>\n",
       "    <tr>\n",
       "      <th>439</th>\n",
       "      <td>65</td>\n",
       "      <td>3</td>\n",
       "      <td>52</td>\n",
       "      <td>0.000657</td>\n",
       "      <td>1.0</td>\n",
       "      <td>0.001022</td>\n",
       "      <td>0</td>\n",
       "    </tr>\n",
       "  </tbody>\n",
       "</table>\n",
       "<p>440 rows × 7 columns</p>\n",
       "</div>"
      ],
      "text/plain": [
       "     Frozen  Region  Delicassen  Scaled_Frozen  Scaled_Region  \\\n",
       "0       214       3        1338       0.003106            1.0   \n",
       "1      1762       3        1776       0.028548            1.0   \n",
       "2      2405       3        7844       0.039116            1.0   \n",
       "3      6404       3        1788       0.104842            1.0   \n",
       "4      3915       3        5185       0.063934            1.0   \n",
       "..      ...     ...         ...            ...            ...   \n",
       "435   13135       3        2204       0.215469            1.0   \n",
       "436    4510       3        2346       0.073713            1.0   \n",
       "437     437       3        1867       0.006771            1.0   \n",
       "438    1038       3        2125       0.016649            1.0   \n",
       "439      65       3          52       0.000657            1.0   \n",
       "\n",
       "     Scaled_Delicassen  labels  \n",
       "0             0.027847       0  \n",
       "1             0.036984       0  \n",
       "2             0.163559       0  \n",
       "3             0.037234       0  \n",
       "4             0.108093       0  \n",
       "..                 ...     ...  \n",
       "435           0.045912       0  \n",
       "436           0.048874       0  \n",
       "437           0.038882       0  \n",
       "438           0.044264       0  \n",
       "439           0.001022       0  \n",
       "\n",
       "[440 rows x 7 columns]"
      ]
     },
     "execution_count": 13,
     "metadata": {},
     "output_type": "execute_result"
    }
   ],
   "source": [
    "df"
   ]
  },
  {
   "cell_type": "markdown",
   "metadata": {},
   "source": [
    "# Zillow Data"
   ]
  },
  {
   "cell_type": "code",
   "execution_count": 14,
   "metadata": {},
   "outputs": [
    {
     "data": {
      "text/html": [
       "<div>\n",
       "<style scoped>\n",
       "    .dataframe tbody tr th:only-of-type {\n",
       "        vertical-align: middle;\n",
       "    }\n",
       "\n",
       "    .dataframe tbody tr th {\n",
       "        vertical-align: top;\n",
       "    }\n",
       "\n",
       "    .dataframe thead th {\n",
       "        text-align: right;\n",
       "    }\n",
       "</style>\n",
       "<table border=\"1\" class=\"dataframe\">\n",
       "  <thead>\n",
       "    <tr style=\"text-align: right;\">\n",
       "      <th></th>\n",
       "      <th>bathrooms</th>\n",
       "      <th>bedrooms</th>\n",
       "      <th>square_feet</th>\n",
       "      <th>fips</th>\n",
       "      <th>latitude</th>\n",
       "      <th>longitude</th>\n",
       "      <th>age</th>\n",
       "      <th>structure_tax_value</th>\n",
       "      <th>tax_value</th>\n",
       "      <th>land_tax_value</th>\n",
       "      <th>taxamount</th>\n",
       "      <th>logerror</th>\n",
       "      <th>tax_rate</th>\n",
       "      <th>acres</th>\n",
       "      <th>structure_dollar_per_sqft</th>\n",
       "      <th>land_dollar_per_sqft</th>\n",
       "      <th>bath_bed_ratio</th>\n",
       "      <th>cola</th>\n",
       "    </tr>\n",
       "  </thead>\n",
       "  <tbody>\n",
       "    <tr>\n",
       "      <th>0</th>\n",
       "      <td>3.5</td>\n",
       "      <td>4.0</td>\n",
       "      <td>3100.0</td>\n",
       "      <td>6059</td>\n",
       "      <td>33634931.0</td>\n",
       "      <td>-117869207.0</td>\n",
       "      <td>19.0</td>\n",
       "      <td>485713.0</td>\n",
       "      <td>1023282.0</td>\n",
       "      <td>537569.0</td>\n",
       "      <td>11013.72</td>\n",
       "      <td>0.025595</td>\n",
       "      <td>1.076313</td>\n",
       "      <td>0.103444</td>\n",
       "      <td>156.681613</td>\n",
       "      <td>119.300710</td>\n",
       "      <td>0.875000</td>\n",
       "      <td>0</td>\n",
       "    </tr>\n",
       "    <tr>\n",
       "      <th>1</th>\n",
       "      <td>1.0</td>\n",
       "      <td>2.0</td>\n",
       "      <td>1465.0</td>\n",
       "      <td>6111</td>\n",
       "      <td>34449266.0</td>\n",
       "      <td>-119281531.0</td>\n",
       "      <td>50.0</td>\n",
       "      <td>88000.0</td>\n",
       "      <td>464000.0</td>\n",
       "      <td>376000.0</td>\n",
       "      <td>5672.48</td>\n",
       "      <td>0.055619</td>\n",
       "      <td>1.222517</td>\n",
       "      <td>0.290335</td>\n",
       "      <td>60.068259</td>\n",
       "      <td>29.730371</td>\n",
       "      <td>0.500000</td>\n",
       "      <td>0</td>\n",
       "    </tr>\n",
       "    <tr>\n",
       "      <th>2</th>\n",
       "      <td>2.0</td>\n",
       "      <td>3.0</td>\n",
       "      <td>1243.0</td>\n",
       "      <td>6059</td>\n",
       "      <td>33886168.0</td>\n",
       "      <td>-117823170.0</td>\n",
       "      <td>55.0</td>\n",
       "      <td>85289.0</td>\n",
       "      <td>564778.0</td>\n",
       "      <td>479489.0</td>\n",
       "      <td>6488.30</td>\n",
       "      <td>0.005383</td>\n",
       "      <td>1.148823</td>\n",
       "      <td>0.193572</td>\n",
       "      <td>68.615447</td>\n",
       "      <td>56.865394</td>\n",
       "      <td>0.666667</td>\n",
       "      <td>0</td>\n",
       "    </tr>\n",
       "    <tr>\n",
       "      <th>3</th>\n",
       "      <td>3.0</td>\n",
       "      <td>4.0</td>\n",
       "      <td>2376.0</td>\n",
       "      <td>6037</td>\n",
       "      <td>34245180.0</td>\n",
       "      <td>-118240722.0</td>\n",
       "      <td>47.0</td>\n",
       "      <td>108918.0</td>\n",
       "      <td>145143.0</td>\n",
       "      <td>36225.0</td>\n",
       "      <td>1777.51</td>\n",
       "      <td>-0.103410</td>\n",
       "      <td>1.224661</td>\n",
       "      <td>0.299311</td>\n",
       "      <td>45.840909</td>\n",
       "      <td>2.778417</td>\n",
       "      <td>0.750000</td>\n",
       "      <td>0</td>\n",
       "    </tr>\n",
       "    <tr>\n",
       "      <th>4</th>\n",
       "      <td>3.0</td>\n",
       "      <td>4.0</td>\n",
       "      <td>2962.0</td>\n",
       "      <td>6037</td>\n",
       "      <td>34145202.0</td>\n",
       "      <td>-118179824.0</td>\n",
       "      <td>67.0</td>\n",
       "      <td>276684.0</td>\n",
       "      <td>773303.0</td>\n",
       "      <td>496619.0</td>\n",
       "      <td>9516.26</td>\n",
       "      <td>-0.001011</td>\n",
       "      <td>1.230599</td>\n",
       "      <td>1.446281</td>\n",
       "      <td>93.411209</td>\n",
       "      <td>7.882841</td>\n",
       "      <td>0.750000</td>\n",
       "      <td>0</td>\n",
       "    </tr>\n",
       "  </tbody>\n",
       "</table>\n",
       "</div>"
      ],
      "text/plain": [
       "   bathrooms  bedrooms  square_feet  fips    latitude    longitude   age  \\\n",
       "0        3.5       4.0       3100.0  6059  33634931.0 -117869207.0  19.0   \n",
       "1        1.0       2.0       1465.0  6111  34449266.0 -119281531.0  50.0   \n",
       "2        2.0       3.0       1243.0  6059  33886168.0 -117823170.0  55.0   \n",
       "3        3.0       4.0       2376.0  6037  34245180.0 -118240722.0  47.0   \n",
       "4        3.0       4.0       2962.0  6037  34145202.0 -118179824.0  67.0   \n",
       "\n",
       "   structure_tax_value  tax_value  land_tax_value  taxamount  logerror  \\\n",
       "0             485713.0  1023282.0        537569.0   11013.72  0.025595   \n",
       "1              88000.0   464000.0        376000.0    5672.48  0.055619   \n",
       "2              85289.0   564778.0        479489.0    6488.30  0.005383   \n",
       "3             108918.0   145143.0         36225.0    1777.51 -0.103410   \n",
       "4             276684.0   773303.0        496619.0    9516.26 -0.001011   \n",
       "\n",
       "   tax_rate     acres  structure_dollar_per_sqft  land_dollar_per_sqft  \\\n",
       "0  1.076313  0.103444                 156.681613            119.300710   \n",
       "1  1.222517  0.290335                  60.068259             29.730371   \n",
       "2  1.148823  0.193572                  68.615447             56.865394   \n",
       "3  1.224661  0.299311                  45.840909              2.778417   \n",
       "4  1.230599  1.446281                  93.411209              7.882841   \n",
       "\n",
       "   bath_bed_ratio  cola  \n",
       "0        0.875000     0  \n",
       "1        0.500000     0  \n",
       "2        0.666667     0  \n",
       "3        0.750000     0  \n",
       "4        0.750000     0  "
      ]
     },
     "execution_count": 14,
     "metadata": {},
     "output_type": "execute_result"
    }
   ],
   "source": [
    "df= wrangle_zillow()\n",
    "df.head()"
   ]
  },
  {
   "cell_type": "code",
   "execution_count": 16,
   "metadata": {},
   "outputs": [],
   "source": [
    "df = df[[\"bedrooms\", \"square_feet\"]]"
   ]
  },
  {
   "cell_type": "code",
   "execution_count": 17,
   "metadata": {},
   "outputs": [
    {
     "data": {
      "text/plain": [
       "array([[4.000e+00, 3.100e+03],\n",
       "       [2.000e+00, 1.465e+03],\n",
       "       [3.000e+00, 1.243e+03],\n",
       "       [4.000e+00, 2.376e+03],\n",
       "       [4.000e+00, 2.962e+03],\n",
       "       [2.000e+00, 7.380e+02],\n",
       "       [4.000e+00, 3.039e+03],\n",
       "       [4.000e+00, 2.540e+03],\n",
       "       [3.000e+00, 1.340e+03],\n",
       "       [3.000e+00, 1.371e+03]], dtype=float32)"
      ]
     },
     "execution_count": 17,
     "metadata": {},
     "output_type": "execute_result"
    }
   ],
   "source": [
    "np_array = df.values.astype(\"float32\", copy = False)\n",
    "np_array[0:10]"
   ]
  },
  {
   "cell_type": "code",
   "execution_count": 18,
   "metadata": {},
   "outputs": [
    {
     "data": {
      "text/plain": [
       "array([[0.3       , 0.22532283],\n",
       "       [0.1       , 0.08362943],\n",
       "       [0.20000002, 0.06439033],\n",
       "       [0.3       , 0.16257907],\n",
       "       [0.3       , 0.21336336],\n",
       "       [0.1       , 0.0206257 ],\n",
       "       [0.3       , 0.2200364 ],\n",
       "       [0.3       , 0.17679174],\n",
       "       [0.20000002, 0.07279661],\n",
       "       [0.20000002, 0.07548314]], dtype=float32)"
      ]
     },
     "execution_count": 18,
     "metadata": {},
     "output_type": "execute_result"
    }
   ],
   "source": [
    "scaler = MinMaxScaler().fit(np_array)\n",
    "np_array = scaler.transform(np_array)\n",
    "np_array[0:10]"
   ]
  },
  {
   "cell_type": "code",
   "execution_count": 19,
   "metadata": {},
   "outputs": [],
   "source": [
    "dbsc = DBSCAN(eps = .10, min_samples = 20).fit(np_array)"
   ]
  },
  {
   "cell_type": "code",
   "execution_count": 20,
   "metadata": {},
   "outputs": [],
   "source": [
    "# Now, let's add the scaled value columns back onto the dataframe\n",
    "columns = list(df.columns)\n",
    "scaled_columns = [\"Scaled_\" + column for column in columns]\n",
    "\n",
    "# Save a copy of the original dataframe\n",
    "original_df = df.copy()\n",
    "\n",
    "# Create a dataframe containing the scaled values\n",
    "scaled_df = pd.DataFrame(np_array, columns=scaled_columns)\n",
    "\n",
    "# Merge the scaled and non-scaled values into one dataframe\n",
    "df = df.merge(scaled_df, on=df.index)\n",
    "df = df.drop(columns=['key_0'])"
   ]
  },
  {
   "cell_type": "code",
   "execution_count": 21,
   "metadata": {},
   "outputs": [
    {
     "data": {
      "text/plain": [
       "array([0, 1, 0, 0, 0, 1, 0, 0, 0, 0])"
      ]
     },
     "execution_count": 21,
     "metadata": {},
     "output_type": "execute_result"
    }
   ],
   "source": [
    "labels = dbsc.labels_\n",
    "labels[0:10]"
   ]
  },
  {
   "cell_type": "code",
   "execution_count": 22,
   "metadata": {},
   "outputs": [
    {
     "data": {
      "text/plain": [
       " 0    42181\n",
       " 1     8185\n",
       " 2      526\n",
       "-1       43\n",
       "Name: labels, dtype: int64"
      ]
     },
     "execution_count": 22,
     "metadata": {},
     "output_type": "execute_result"
    }
   ],
   "source": [
    "df['labels'] = labels\n",
    "df.labels.value_counts()"
   ]
  },
  {
   "cell_type": "code",
   "execution_count": 23,
   "metadata": {},
   "outputs": [
    {
     "data": {
      "text/html": [
       "<div>\n",
       "<style scoped>\n",
       "    .dataframe tbody tr th:only-of-type {\n",
       "        vertical-align: middle;\n",
       "    }\n",
       "\n",
       "    .dataframe tbody tr th {\n",
       "        vertical-align: top;\n",
       "    }\n",
       "\n",
       "    .dataframe thead th {\n",
       "        text-align: right;\n",
       "    }\n",
       "</style>\n",
       "<table border=\"1\" class=\"dataframe\">\n",
       "  <thead>\n",
       "    <tr style=\"text-align: right;\">\n",
       "      <th></th>\n",
       "      <th>bedrooms</th>\n",
       "      <th>square_feet</th>\n",
       "      <th>Scaled_bedrooms</th>\n",
       "      <th>Scaled_square_feet</th>\n",
       "      <th>labels</th>\n",
       "    </tr>\n",
       "  </thead>\n",
       "  <tbody>\n",
       "    <tr>\n",
       "      <th>313</th>\n",
       "      <td>8.0</td>\n",
       "      <td>8837.0</td>\n",
       "      <td>0.7</td>\n",
       "      <td>0.722506</td>\n",
       "      <td>-1</td>\n",
       "    </tr>\n",
       "    <tr>\n",
       "      <th>1498</th>\n",
       "      <td>8.0</td>\n",
       "      <td>3247.0</td>\n",
       "      <td>0.7</td>\n",
       "      <td>0.238062</td>\n",
       "      <td>-1</td>\n",
       "    </tr>\n",
       "    <tr>\n",
       "      <th>1725</th>\n",
       "      <td>6.0</td>\n",
       "      <td>10686.0</td>\n",
       "      <td>0.5</td>\n",
       "      <td>0.882745</td>\n",
       "      <td>-1</td>\n",
       "    </tr>\n",
       "    <tr>\n",
       "      <th>2243</th>\n",
       "      <td>7.0</td>\n",
       "      <td>8391.0</td>\n",
       "      <td>0.6</td>\n",
       "      <td>0.683855</td>\n",
       "      <td>-1</td>\n",
       "    </tr>\n",
       "    <tr>\n",
       "      <th>2385</th>\n",
       "      <td>9.0</td>\n",
       "      <td>9918.0</td>\n",
       "      <td>0.8</td>\n",
       "      <td>0.816189</td>\n",
       "      <td>-1</td>\n",
       "    </tr>\n",
       "  </tbody>\n",
       "</table>\n",
       "</div>"
      ],
      "text/plain": [
       "      bedrooms  square_feet  Scaled_bedrooms  Scaled_square_feet  labels\n",
       "313        8.0       8837.0              0.7            0.722506      -1\n",
       "1498       8.0       3247.0              0.7            0.238062      -1\n",
       "1725       6.0      10686.0              0.5            0.882745      -1\n",
       "2243       7.0       8391.0              0.6            0.683855      -1\n",
       "2385       9.0       9918.0              0.8            0.816189      -1"
      ]
     },
     "execution_count": 23,
     "metadata": {},
     "output_type": "execute_result"
    }
   ],
   "source": [
    "df[df.labels==-1].head()"
   ]
  },
  {
   "cell_type": "code",
   "execution_count": 24,
   "metadata": {},
   "outputs": [
    {
     "name": "stdout",
     "output_type": "stream",
     "text": [
      "Population\n",
      "           bedrooms   square_feet  Scaled_bedrooms  Scaled_square_feet  \\\n",
      "count  50935.000000  50935.000000     50935.000000        50935.000000   \n",
      "mean       3.299872   1897.629665         0.230000            0.121122   \n",
      "std        0.916956    933.628909         0.091692            0.080910   \n",
      "min        1.000000    500.000000         0.000000            0.000000   \n",
      "25%        3.000000   1266.000000         0.200000            0.066384   \n",
      "50%        3.000000   1650.000000         0.200000            0.099662   \n",
      "75%        4.000000   2279.000000         0.300000            0.154173   \n",
      "max       11.000000  12039.000000         1.000000            1.000000   \n",
      "\n",
      "             labels  \n",
      "count  50935.000000  \n",
      "mean       0.180505  \n",
      "std        0.412636  \n",
      "min       -1.000000  \n",
      "25%        0.000000  \n",
      "50%        0.000000  \n",
      "75%        0.000000  \n",
      "max        2.000000  \n",
      "-------------\n",
      "Inliers\n",
      "          bedrooms   square_feet  Scaled_bedrooms  Scaled_square_feet   labels\n",
      "count  42181.00000  42181.000000     42181.000000        42181.000000  42181.0\n",
      "mean       3.57680   2042.020293         0.257704            0.133635      0.0\n",
      "std        0.72532    922.401498         0.072517            0.079938      0.0\n",
      "min        3.00000    615.000000         0.200000            0.009966      0.0\n",
      "25%        3.00000   1398.000000         0.200000            0.077823      0.0\n",
      "50%        3.00000   1794.000000         0.200000            0.112141      0.0\n",
      "75%        4.00000   2439.000000         0.300000            0.168039      0.0\n",
      "max        7.00000   9848.000000         0.600000            0.810122      0.0\n",
      "-------------\n",
      "Outliers\n",
      "        bedrooms   square_feet  Scaled_bedrooms  Scaled_square_feet  labels\n",
      "count  43.000000     43.000000        43.000000           43.000000    43.0\n",
      "mean    7.209302   7384.674419         0.620930            0.596644    -1.0\n",
      "std     1.766866   2828.155446         0.176687            0.245095     0.0\n",
      "min     3.000000   2558.000000         0.200000            0.178352    -1.0\n",
      "25%     6.000000   4482.000000         0.500000            0.345091    -1.0\n",
      "50%     8.000000   7524.000000         0.700000            0.608718    -1.0\n",
      "75%     8.000000   9813.000000         0.700000            0.807089    -1.0\n",
      "max    11.000000  12039.000000         1.000000            1.000000    -1.0\n"
     ]
    }
   ],
   "source": [
    "# Let's look at the descriptive stats for the entire population, the inliers, then the outliers/anomalies\n",
    "print(\"Population\")\n",
    "print(df.describe())\n",
    "print(\"-------------\")\n",
    "print(\"Inliers\")\n",
    "print(df[df.labels==0].describe())\n",
    "print(\"-------------\")\n",
    "print(\"Outliers\")\n",
    "print(df[df.labels==-1].describe())"
   ]
  },
  {
   "cell_type": "code",
   "execution_count": 25,
   "metadata": {},
   "outputs": [
    {
     "data": {
      "image/png": "[encoded data removed]",
      "text/plain": [
       "<Figure size 432x288 with 1 Axes>"
      ]
     },
     "metadata": {
      "needs_background": "light"
     },
     "output_type": "display_data"
    }
   ],
   "source": [
    "sns.scatterplot(df.square_feet, df.bedrooms, hue=df.labels)\n",
    "plt.show()"
   ]
  },
  {
   "cell_type": "code",
   "execution_count": null,
   "metadata": {},
   "outputs": [],
   "source": []
  }
 ],
 "metadata": {
  "kernelspec": {
   "display_name": "Python 3",
   "language": "python",
   "name": "python3"
  },
  "language_info": {
   "codemirror_mode": {
    "name": "ipython",
    "version": 3
   },
   "file_extension": ".py",
   "mimetype": "text/x-python",
   "name": "python",
   "nbconvert_exporter": "python",
   "pygments_lexer": "ipython3",
   "version": "3.7.6"
  }
 },
 "nbformat": 4,
 "nbformat_minor": 4
}
